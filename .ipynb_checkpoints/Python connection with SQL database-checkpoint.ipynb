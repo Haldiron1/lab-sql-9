{
 "cells": [
  {
   "cell_type": "code",
   "execution_count": 1,
   "id": "0b54c423",
   "metadata": {},
   "outputs": [
    {
     "name": "stdout",
     "output_type": "stream",
     "text": [
      "Rentals for May:\n",
      "     customer_id  rental_count\n",
      "0            130             4\n",
      "1            459             2\n",
      "2            408             6\n",
      "3            333             2\n",
      "4            222            10\n",
      "..           ...           ...\n",
      "515          191             4\n",
      "516          351             2\n",
      "517           10             2\n",
      "518          136             2\n",
      "519           61             2\n",
      "\n",
      "[520 rows x 2 columns]\n",
      "\n",
      "Rentals for June:\n",
      "     customer_id  rental_count\n",
      "0            416            10\n",
      "1            516            12\n",
      "2            239            10\n",
      "3            285             6\n",
      "4            310            12\n",
      "..           ...           ...\n",
      "585          412             2\n",
      "586          335             2\n",
      "587          226             4\n",
      "588           22             2\n",
      "589          126             2\n",
      "\n",
      "[590 rows x 2 columns]\n"
     ]
    },
    {
     "name": "stderr",
     "output_type": "stream",
     "text": [
      "C:\\Users\\jseab\\anaconda3\\lib\\site-packages\\pandas\\io\\sql.py:762: UserWarning: pandas only support SQLAlchemy connectable(engine/connection) ordatabase string URI or sqlite3 DBAPI2 connectionother DBAPI2 objects are not tested, please consider using SQLAlchemy\n",
      "  warnings.warn(\n",
      "C:\\Users\\jseab\\anaconda3\\lib\\site-packages\\pandas\\io\\sql.py:762: UserWarning: pandas only support SQLAlchemy connectable(engine/connection) ordatabase string URI or sqlite3 DBAPI2 connectionother DBAPI2 objects are not tested, please consider using SQLAlchemy\n",
      "  warnings.warn(\n"
     ]
    }
   ],
   "source": [
    "import pandas as pd\n",
    "import mysql.connector \n",
    "\n",
    "# Establish a connection to the MySQL database\n",
    "db_connection = mysql.connector.connect(\n",
    "    host='localhost',\n",
    "    user='root',\n",
    "    password='Haldiron123!',\n",
    "    database='sakila'\n",
    ")\n",
    "\n",
    "\n",
    "query_may = '''\n",
    "    SELECT customer_id, COUNT(*) AS rental_count\n",
    "    FROM rentals_may\n",
    "    GROUP BY customer_id;\n",
    "'''\n",
    "\n",
    "query_june = '''\n",
    "    SELECT customer_id, COUNT(*) AS rental_count\n",
    "    FROM rentals_june\n",
    "    GROUP BY customer_id;\n",
    "'''\n",
    "\n",
    "df_may = pd.read_sql(query_may, con=db_connection)\n",
    "df_june = pd.read_sql(query_june, con=db_connection)\n",
    "\n",
    "db_connection.close()\n",
    "\n",
    "print(\"Rentals for May:\")\n",
    "print(df_may)\n",
    "\n",
    "print(\"\\nRentals for June:\")\n",
    "print(df_june)\n"
   ]
  },
  {
   "cell_type": "code",
   "execution_count": 3,
   "id": "c8e3ecf9",
   "metadata": {},
   "outputs": [
    {
     "name": "stdout",
     "output_type": "stream",
     "text": [
      "     customer_id         comparison\n",
      "0            130      borrowed more\n",
      "1            459      borrowed more\n",
      "2            408  borrowed the same\n",
      "3            333      borrowed more\n",
      "4            222     borrowed fewer\n",
      "..           ...                ...\n",
      "515          191      borrowed more\n",
      "516          351      borrowed more\n",
      "517           10      borrowed more\n",
      "518          136  borrowed the same\n",
      "519           61     borrowed fewer\n",
      "\n",
      "[520 rows x 2 columns]\n"
     ]
    }
   ],
   "source": [
    "def compare_rentals(may_df, june_df):\n",
    "    result = []\n",
    "    \n",
    "    for index, row in may_df.iterrows():\n",
    "        customer_id = row['customer_id']\n",
    "        may_rentals = row['rental_count']\n",
    "        \n",
    "        june_rentals = june_df[june_df['customer_id'] == customer_id]['rental_count'].values\n",
    "        if len(june_rentals) == 0:\n",
    "            june_rentals = 0\n",
    "        else:\n",
    "            june_rentals = june_rentals[0]\n",
    "        \n",
    "        if june_rentals > may_rentals:\n",
    "            comparison = 'borrowed more'\n",
    "        elif june_rentals < may_rentals:\n",
    "            comparison = 'borrowed fewer'\n",
    "        else:\n",
    "            comparison = 'borrowed the same'\n",
    "        \n",
    "        result.append({\n",
    "            'customer_id': customer_id,\n",
    "            'comparison': comparison\n",
    "        })\n",
    "    \n",
    "    comparison_df = pd.DataFrame(result)\n",
    "    return comparison_df\n",
    "\n",
    "comparison_result = compare_rentals(df_may, df_june)\n",
    "print(comparison_result)\n"
   ]
  },
  {
   "cell_type": "code",
   "execution_count": 4,
   "id": "00606a44",
   "metadata": {},
   "outputs": [
    {
     "name": "stdout",
     "output_type": "stream",
     "text": [
      "     customer_id         comparison\n",
      "0            130      borrowed more\n",
      "1            459      borrowed more\n",
      "2            408  borrowed the same\n",
      "3            333      borrowed more\n",
      "4            222     borrowed fewer\n",
      "..           ...                ...\n",
      "507          431      borrowed more\n",
      "508          191      borrowed more\n",
      "509          351      borrowed more\n",
      "510           10      borrowed more\n",
      "511          136  borrowed the same\n",
      "\n",
      "[512 rows x 2 columns]\n"
     ]
    }
   ],
   "source": [
    "def compare_rentals(may_df, june_df):\n",
    "    \n",
    "    merged_df = may_df.merge(june_df, on='customer_id', suffixes=('_may', '_june'))\n",
    "\n",
    "    \n",
    "    merged_df['comparison'] = 'borrowed the same'\n",
    "    merged_df.loc[merged_df['rental_count_june'] > merged_df['rental_count_may'], 'comparison'] = 'borrowed more'\n",
    "    merged_df.loc[merged_df['rental_count_june'] < merged_df['rental_count_may'], 'comparison'] = 'borrowed fewer'\n",
    "    \n",
    "    \n",
    "    comparison_df = merged_df[['customer_id', 'comparison']]\n",
    "    return comparison_df\n",
    "comparison_result = compare_rentals(df_may, df_june)\n",
    "print(comparison_result)\n"
   ]
  },
  {
   "cell_type": "code",
   "execution_count": null,
   "id": "7e72d472",
   "metadata": {},
   "outputs": [],
   "source": []
  }
 ],
 "metadata": {
  "kernelspec": {
   "display_name": "Python 3 (ipykernel)",
   "language": "python",
   "name": "python3"
  },
  "language_info": {
   "codemirror_mode": {
    "name": "ipython",
    "version": 3
   },
   "file_extension": ".py",
   "mimetype": "text/x-python",
   "name": "python",
   "nbconvert_exporter": "python",
   "pygments_lexer": "ipython3",
   "version": "3.9.13"
  }
 },
 "nbformat": 4,
 "nbformat_minor": 5
}
